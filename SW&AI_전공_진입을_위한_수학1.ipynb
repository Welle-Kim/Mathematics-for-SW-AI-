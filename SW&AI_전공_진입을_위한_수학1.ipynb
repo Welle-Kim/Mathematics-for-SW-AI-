{
  "nbformat": 4,
  "nbformat_minor": 0,
  "metadata": {
    "colab": {
      "name": "SW&AI 전공 진입을 위한 수학1.ipynb",
      "provenance": [],
      "collapsed_sections": [],
      "authorship_tag": "ABX9TyO34WM16IoZB4Jd2U/AuHJ9",
      "include_colab_link": true
    },
    "kernelspec": {
      "name": "python3",
      "display_name": "Python 3"
    },
    "language_info": {
      "name": "python"
    }
  },
  "cells": [
    {
      "cell_type": "markdown",
      "metadata": {
        "id": "view-in-github",
        "colab_type": "text"
      },
      "source": [
        "<a href=\"https://colab.research.google.com/github/Welle-Kim/Mathematics-for-SW-AI-/blob/master/SW%26AI_%EC%A0%84%EA%B3%B5_%EC%A7%84%EC%9E%85%EC%9D%84_%EC%9C%84%ED%95%9C_%EC%88%98%ED%95%991.ipynb\" target=\"_parent\"><img src=\"https://colab.research.google.com/assets/colab-badge.svg\" alt=\"Open In Colab\"/></a>"
      ]
    },
    {
      "cell_type": "code",
      "execution_count": 1,
      "metadata": {
        "colab": {
          "base_uri": "https://localhost:8080/"
        },
        "id": "J6JJ9RkU_90m",
        "outputId": "28c65797-db3a-4b6c-ed99-30c856a4c384"
      },
      "outputs": [
        {
          "output_type": "stream",
          "name": "stdout",
          "text": [
            "[1 2 3]\n",
            "1\n",
            "2\n",
            "3\n",
            "3\n",
            "(3,)\n",
            "1\n"
          ]
        }
      ],
      "source": [
        "#벡터의 차원\n",
        "import numpy as np\n",
        "x=np.array([1,2,3])\n",
        "print(x)\n",
        "print(x[0])\n",
        "print(x[1])\n",
        "print(x[2])\n",
        "print(len(x))\n",
        "print(x.shape)\n",
        "print(x.ndim)"
      ]
    },
    {
      "cell_type": "code",
      "source": [
        "#행렬의 차원\n",
        "import numpy as np\n",
        "A=np.array([[1,2,3],[4,5,6],[7,8,9]])\n",
        "print(A)\n",
        "print(A[0,0])\n",
        "print(A[0,1])\n",
        "print(A[2,1])\n",
        "print(A.shape)\n",
        "print(A.ndim)"
      ],
      "metadata": {
        "colab": {
          "base_uri": "https://localhost:8080/"
        },
        "id": "yOs1jkLyBDmu",
        "outputId": "39a06060-5734-49f7-80bc-feb4bcf26e13"
      },
      "execution_count": 3,
      "outputs": [
        {
          "output_type": "stream",
          "name": "stdout",
          "text": [
            "[[1 2 3]\n",
            " [4 5 6]\n",
            " [7 8 9]]\n",
            "1\n",
            "2\n",
            "8\n",
            "(3, 3)\n",
            "2\n"
          ]
        }
      ]
    },
    {
      "cell_type": "code",
      "source": [
        "#3차원 텐서\n",
        "import numpy as np\n",
        "T = np.array([[[1,2,3],[4,5,6],[7,8,9]],[[10,11,12],[13,14,15],[16,17,18]]])\n",
        "print(T)\n",
        "print(T[0,0,0])\n",
        "print(T[0,0,1])\n",
        "print(T[1,2,1])\n",
        "print(T.shape) # 3*3행렬이 두겹\n",
        "print(T.ndim)"
      ],
      "metadata": {
        "colab": {
          "base_uri": "https://localhost:8080/"
        },
        "id": "RsvECsNoDcp5",
        "outputId": "2a150047-3a0c-4e17-f177-da0f75959a2d"
      },
      "execution_count": 6,
      "outputs": [
        {
          "output_type": "stream",
          "name": "stdout",
          "text": [
            "[[[ 1  2  3]\n",
            "  [ 4  5  6]\n",
            "  [ 7  8  9]]\n",
            "\n",
            " [[10 11 12]\n",
            "  [13 14 15]\n",
            "  [16 17 18]]]\n",
            "1\n",
            "2\n",
            "17\n",
            "(2, 3, 3)\n",
            "3\n"
          ]
        }
      ]
    },
    {
      "cell_type": "code",
      "source": [
        "import numpy as np\n",
        "A=np.random.randint(2,size=(2,3))\n",
        "B=np.random.randint(2,size=(2,3))\n",
        "print(\"A=\",A)\n",
        "print(\"B=\",B)\n",
        "np.array_equal(A,B)"
      ],
      "metadata": {
        "colab": {
          "base_uri": "https://localhost:8080/"
        },
        "id": "p2dsYFsiGpLU",
        "outputId": "fc063f37-e050-45f6-ca2d-a7d090c524e2"
      },
      "execution_count": 32,
      "outputs": [
        {
          "output_type": "stream",
          "name": "stdout",
          "text": [
            "A= [[0 1 0]\n",
            " [1 1 0]]\n",
            "B= [[1 1 1]\n",
            " [0 0 1]]\n"
          ]
        },
        {
          "output_type": "execute_result",
          "data": {
            "text/plain": [
              "False"
            ]
          },
          "metadata": {},
          "execution_count": 32
        }
      ]
    },
    {
      "cell_type": "code",
      "source": [
        "import numpy as np\n",
        "A=np.array([[2,-1,1],[-1,3,4]])\n",
        "B=np.array([[-1,2,-3],[2,0,-1]])\n",
        "x=np.array([3,1,-2,4])\n",
        "y=np.array([-1,-3,5,1])\n",
        "print(A+B,\"\\n\")\n",
        "print(x-y,\"\\n\")\n",
        "print(A+(2*B-3*A))"
      ],
      "metadata": {
        "colab": {
          "base_uri": "https://localhost:8080/"
        },
        "id": "7j1fWkbGHI5V",
        "outputId": "684a9f7b-8cde-4de0-d3b3-9a7b432257a9"
      },
      "execution_count": 36,
      "outputs": [
        {
          "output_type": "stream",
          "name": "stdout",
          "text": [
            "[[ 1  1 -2]\n",
            " [ 1  3  3]] \n",
            "\n",
            "[ 4  4 -7  3] \n",
            "\n",
            "[[ -6   6  -8]\n",
            " [  6  -6 -10]]\n"
          ]
        }
      ]
    }
  ]
}